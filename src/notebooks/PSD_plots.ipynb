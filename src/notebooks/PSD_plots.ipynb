{
 "cells": [
  {
   "attachments": {},
   "cell_type": "markdown",
   "metadata": {},
   "source": [
    "- [Data Set](https://figshare.com/articles/dataset/EEG_Data_New/4244171/2) \n",
    "- [Paper](https://ieeexplore.ieee.org/document/9995246)"
   ]
  },
  {
   "attachments": {},
   "cell_type": "markdown",
   "metadata": {},
   "source": [
    "'H' stands for Healthy Controls\n",
    "'MDD' stands for Major Depressive Disorder \n",
    "'EC' stands for eyes closed\n",
    "'EO' stands for eyes open\n",
    "'TASK' stands for P300 data"
   ]
  },
  {
   "attachments": {},
   "cell_type": "markdown",
   "metadata": {},
   "source": [
    "The 19-electrodes covering the scalp included the frontal (Fp1,\n",
    "Fp2, F3, F4, F7, F8, Fpz), temporal (T3, T4, T5, T6), parietal (P3, P4,\n",
    "P7, P8), occipital (O1, O2), and central (C3, C4) regions. Moreover,\n",
    "the 19-channels EEG cap was attached to an amplifier from Brain\n",
    "Master Systems with configurations such as 0.5 Hz to 70 Hz filter,\n",
    "with a 50 Hz notch filter, and a sample rate of 256 samples per second"
   ]
  },
  {
   "cell_type": "code",
   "execution_count": null,
   "metadata": {},
   "outputs": [],
   "source": [
    "import os as os\n",
    "from mne.io import concatenate_raws, read_raw_edf\n",
    "import numpy as np\n",
    "import sys\n",
    "sys.path.append(\"./../data/\") # add the data package directory to the python path to be able to import data_methods.py module\n",
    "from data_methods import *"
   ]
  },
  {
   "cell_type": "code",
   "execution_count": null,
   "metadata": {},
   "outputs": [],
   "source": [
    "MDD_Filered_data = get_filtered_MDD()"
   ]
  },
  {
   "cell_type": "code",
   "execution_count": null,
   "metadata": {},
   "outputs": [],
   "source": [
    "H_Filered_data = get_filtered_H()"
   ]
  },
  {
   "cell_type": "code",
   "execution_count": null,
   "metadata": {},
   "outputs": [],
   "source": [
    "MDD_Filered_data[0][0][0].compute_psd().plot()"
   ]
  },
  {
   "cell_type": "code",
   "execution_count": null,
   "metadata": {},
   "outputs": [],
   "source": [
    "H_Filered_data[0][0][0].compute_psd().plot()"
   ]
  },
  {
   "cell_type": "code",
   "execution_count": null,
   "metadata": {},
   "outputs": [],
   "source": [
    "MDD_Filered_data[1][0][0]"
   ]
  },
  {
   "cell_type": "code",
   "execution_count": null,
   "metadata": {},
   "outputs": [],
   "source": [
    "MDD_Filered_data[1][0][0].compute_psd(tmin=0, fmin=50, \n",
    "                picks='eeg').plot()"
   ]
  },
  {
   "cell_type": "code",
   "execution_count": null,
   "metadata": {},
   "outputs": [],
   "source": [
    "H_Filered_data[1][0][0].compute_psd(tmin=0, fmin=50, \n",
    "                picks='eeg').plot()"
   ]
  }
 ],
 "metadata": {
  "kernelspec": {
   "display_name": "GNN_EEG",
   "language": "python",
   "name": "python3"
  },
  "language_info": {
   "codemirror_mode": {
    "name": "ipython",
    "version": 3
   },
   "file_extension": ".py",
   "mimetype": "text/x-python",
   "name": "python",
   "nbconvert_exporter": "python",
   "pygments_lexer": "ipython3",
   "version": "3.11.2"
  },
  "orig_nbformat": 4,
  "vscode": {
   "interpreter": {
    "hash": "c88a24521fa82e3e21505493f300b5f38814ea4427331787e5ab74eb60adc597"
   }
  }
 },
 "nbformat": 4,
 "nbformat_minor": 2
}
