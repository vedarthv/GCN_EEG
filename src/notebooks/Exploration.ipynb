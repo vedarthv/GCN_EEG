{
 "cells": [
  {
   "attachments": {},
   "cell_type": "markdown",
   "metadata": {},
   "source": [
    "- [Data Set](https://figshare.com/articles/dataset/EEG_Data_New/4244171/2) \n",
    "- [Paper](https://ieeexplore.ieee.org/document/9995246)"
   ]
  },
  {
   "attachments": {},
   "cell_type": "markdown",
   "metadata": {},
   "source": [
    "'H' stands for Healthy Controls\n",
    "'MDD' stands for Major Depressive Disorder \n",
    "'EC' stands for eyes closed\n",
    "'EO' stands for eyes open\n",
    "'TASK' stands for P300 data"
   ]
  },
  {
   "attachments": {},
   "cell_type": "markdown",
   "metadata": {},
   "source": [
    "The 19-electrodes covering the scalp included the frontal (Fp1,\n",
    "Fp2, F3, F4, F7, F8, Fpz), temporal (T3, T4, T5, T6), parietal (P3, P4,\n",
    "P7, P8), occipital (O1, O2), and central (C3, C4) regions. Moreover,\n",
    "the 19-channels EEG cap was attached to an amplifier from Brain\n",
    "Master Systems with configurations such as 0.5 Hz to 70 Hz filter,\n",
    "with a 50 Hz notch filter, and a sample rate of 256 samples per second"
   ]
  },
  {
   "cell_type": "code",
   "execution_count": 1,
   "metadata": {},
   "outputs": [],
   "source": [
    "import os as os\n",
    "from mne.io import concatenate_raws, read_raw_edf\n",
    "import numpy as np\n",
    "import sys\n",
    "sys.path.append(\"./../data/\") # add the data package directory to the python path to be able to import data_methods.py module\n",
    "from data_methods import *"
   ]
  },
  {
   "cell_type": "code",
   "execution_count": 2,
   "metadata": {},
   "outputs": [
    {
     "data": {
      "text/plain": [
       "{0: [[<RawEDF | HS1EC.edf, 22 x 76800 (300.0 s), ~26 kB, data not loaded>,\n",
       "   <RawEDF | HS1EO.edf, 22 x 89856 (351.0 s), ~26 kB, data not loaded>,\n",
       "   <RawEDF | HS1TASK.edf, 22 x 154880 (605.0 s), ~26 kB, data not loaded>]],\n",
       " 1: [[<RawEDF | HS2EC.edf, 20 x 77312 (302.0 s), ~24 kB, data not loaded>,\n",
       "   <RawEDF | HS2EO.edf, 20 x 77312 (302.0 s), ~24 kB, data not loaded>,\n",
       "   <RawEDF | HS2TASK.edf, 22 x 154880 (605.0 s), ~26 kB, data not loaded>]],\n",
       " 2: [[<RawEDF | HS3EC.edf, 22 x 77056 (301.0 s), ~26 kB, data not loaded>,\n",
       "   <RawEDF | HS3EO.edf, 22 x 78080 (305.0 s), ~26 kB, data not loaded>,\n",
       "   <RawEDF | HS3TASK.edf, 22 x 154880 (605.0 s), ~26 kB, data not loaded>]],\n",
       " 3: [[<RawEDF | HS4EC.edf, 22 x 77056 (301.0 s), ~26 kB, data not loaded>,\n",
       "   <RawEDF | HS4EO.edf, 22 x 75520 (295.0 s), ~26 kB, data not loaded>,\n",
       "   <RawEDF | HS4TASK.edf, 22 x 154880 (605.0 s), ~26 kB, data not loaded>]],\n",
       " 4: [[<RawEDF | HS5EC.edf, 22 x 77568 (303.0 s), ~26 kB, data not loaded>,\n",
       "   <RawEDF | HS5EO.edf, 22 x 79872 (312.0 s), ~26 kB, data not loaded>,\n",
       "   <RawEDF | HS5TASK.edf, 22 x 156672 (612.0 s), ~26 kB, data not loaded>]],\n",
       " 5: [[<RawEDF | HS6EC.edf, 22 x 77056 (301.0 s), ~26 kB, data not loaded>,\n",
       "   <RawEDF | HS6EO.edf, 22 x 77568 (303.0 s), ~26 kB, data not loaded>,\n",
       "   <RawEDF | HS6TASK.edf, 22 x 156416 (611.0 s), ~26 kB, data not loaded>]],\n",
       " 6: [[<RawEDF | HS7EC.edf, 22 x 91136 (356.0 s), ~26 kB, data not loaded>,\n",
       "   <RawEDF | HS7EO.edf, 22 x 77568 (303.0 s), ~26 kB, data not loaded>,\n",
       "   <RawEDF | HS7TASK.edf, 22 x 154880 (605.0 s), ~26 kB, data not loaded>]],\n",
       " 7: [[<RawEDF | HS8EC.edf, 22 x 77312 (302.0 s), ~26 kB, data not loaded>,\n",
       "   <RawEDF | HS8EO.edf, 22 x 77312 (302.0 s), ~26 kB, data not loaded>,\n",
       "   <RawEDF | HS8TASK.edf, 22 x 155904 (609.0 s), ~26 kB, data not loaded>]],\n",
       " 8: [[<RawEDF | HS9EC.edf, 22 x 77056 (301.0 s), ~26 kB, data not loaded>,\n",
       "   <RawEDF | HS9EO.edf, 22 x 77312 (302.0 s), ~26 kB, data not loaded>,\n",
       "   <RawEDF | HS9TASK.edf, 22 x 153856 (601.0 s), ~26 kB, data not loaded>]],\n",
       " 9: [[<RawEDF | HS10EC.edf, 22 x 96256 (376.0 s), ~26 kB, data not loaded>,\n",
       "   <RawEDF | HS10EO.edf, 22 x 76800 (300.0 s), ~26 kB, data not loaded>,\n",
       "   <RawEDF | HS10TASK.edf, 22 x 154880 (605.0 s), ~26 kB, data not loaded>]],\n",
       " 10: [[<RawEDF | HS11EC.edf, 22 x 76800 (300.0 s), ~26 kB, data not loaded>,\n",
       "   <RawEDF | HS11EO.edf, 22 x 77312 (302.0 s), ~26 kB, data not loaded>,\n",
       "   <RawEDF | HS11TASK.edf, 22 x 154880 (605.0 s), ~26 kB, data not loaded>]],\n",
       " 11: [[<RawEDF | HS12EO.edf, 22 x 76800 (300.0 s), ~26 kB, data not loaded>,\n",
       "   <RawEDF | HS12TASK.edf, 22 x 154880 (605.0 s), ~26 kB, data not loaded>]],\n",
       " 12: [[<RawEDF | HS13EC.edf, 22 x 76800 (300.0 s), ~26 kB, data not loaded>,\n",
       "   <RawEDF | HS13EO.edf, 22 x 77568 (303.0 s), ~26 kB, data not loaded>,\n",
       "   <RawEDF | HS13TASK.edf, 22 x 156160 (610.0 s), ~26 kB, data not loaded>]],\n",
       " 13: [[<RawEDF | HS14EC.edf, 22 x 77312 (302.0 s), ~26 kB, data not loaded>,\n",
       "   <RawEDF | HS14EO.edf, 22 x 49664 (194.0 s), ~26 kB, data not loaded>,\n",
       "   <RawEDF | HS14TASK.edf, 22 x 155392 (607.0 s), ~26 kB, data not loaded>]],\n",
       " 14: [[<RawEDF | HS15EC.edf, 22 x 76800 (300.0 s), ~26 kB, data not loaded>,\n",
       "   <RawEDF | HS15TASK.edf, 22 x 156160 (610.0 s), ~26 kB, data not loaded>]],\n",
       " 15: [[<RawEDF | HS16EC.edf, 20 x 74752 (292.0 s), ~24 kB, data not loaded>,\n",
       "   <RawEDF | HS16EO.edf, 20 x 76544 (299.0 s), ~24 kB, data not loaded>,\n",
       "   <RawEDF | HS16TASK.edf, 22 x 162304 (634.0 s), ~26 kB, data not loaded>]],\n",
       " 16: [[<RawEDF | HS17EC.edf, 22 x 79104 (309.0 s), ~26 kB, data not loaded>,\n",
       "   <RawEDF | HS17EO.edf, 22 x 77056 (301.0 s), ~26 kB, data not loaded>,\n",
       "   <RawEDF | HS17TASK.edf, 22 x 154880 (605.0 s), ~26 kB, data not loaded>]],\n",
       " 17: [[<RawEDF | HS18EO.edf, 22 x 77056 (301.0 s), ~26 kB, data not loaded>,\n",
       "   <RawEDF | HS18TASK.edf, 22 x 155648 (608.0 s), ~26 kB, data not loaded>]],\n",
       " 18: [[<RawEDF | HS19EC.edf, 22 x 76800 (300.0 s), ~26 kB, data not loaded>,\n",
       "   <RawEDF | HS19EO.edf, 22 x 77056 (301.0 s), ~26 kB, data not loaded>,\n",
       "   <RawEDF | HS19TASK.edf, 22 x 155648 (608.0 s), ~26 kB, data not loaded>]],\n",
       " 19: [[<RawEDF | HS20EC.edf, 22 x 78592 (307.0 s), ~26 kB, data not loaded>,\n",
       "   <RawEDF | HS20EO.edf, 22 x 81920 (320.0 s), ~26 kB, data not loaded>]],\n",
       " 20: [[<RawEDF | HS21EC.edf, 22 x 77056 (301.0 s), ~26 kB, data not loaded>,\n",
       "   <RawEDF | HS21EO.edf, 22 x 78080 (305.0 s), ~26 kB, data not loaded>]],\n",
       " 21: [[<RawEDF | HS22EC.edf, 22 x 77056 (301.0 s), ~26 kB, data not loaded>,\n",
       "   <RawEDF | HS22EO.edf, 22 x 76544 (299.0 s), ~26 kB, data not loaded>,\n",
       "   <RawEDF | HS22TASK.edf, 22 x 154624 (604.0 s), ~26 kB, data not loaded>]],\n",
       " 22: [[<RawEDF | HS23EC.edf, 22 x 77312 (302.0 s), ~26 kB, data not loaded>,\n",
       "   <RawEDF | HS23EO.edf, 22 x 77312 (302.0 s), ~26 kB, data not loaded>,\n",
       "   <RawEDF | HS23TASK.edf, 22 x 158720 (620.0 s), ~26 kB, data not loaded>]],\n",
       " 23: [[<RawEDF | HS24EC.edf, 20 x 76544 (299.0 s), ~24 kB, data not loaded>,\n",
       "   <RawEDF | HS24EO.edf, 20 x 76032 (297.0 s), ~24 kB, data not loaded>,\n",
       "   <RawEDF | HS24TASK.edf, 22 x 164864 (644.0 s), ~26 kB, data not loaded>]],\n",
       " 24: [[<RawEDF | HS25EC.edf, 20 x 77056 (301.0 s), ~24 kB, data not loaded>,\n",
       "   <RawEDF | HS25TASK.edf, 22 x 164608 (643.0 s), ~26 kB, data not loaded>]],\n",
       " 25: [[<RawEDF | HS26EC.edf, 22 x 77312 (302.0 s), ~26 kB, data not loaded>,\n",
       "   <RawEDF | HS26EO.edf, 22 x 78080 (305.0 s), ~26 kB, data not loaded>,\n",
       "   <RawEDF | HS26TASK.edf, 22 x 156416 (611.0 s), ~26 kB, data not loaded>]],\n",
       " 26: [[<RawEDF | HS27EC.edf, 20 x 76800 (300.0 s), ~24 kB, data not loaded>,\n",
       "   <RawEDF | HS27EO.edf, 20 x 76800 (300.0 s), ~24 kB, data not loaded>,\n",
       "   <RawEDF | HS27TASK.edf, 22 x 162048 (633.0 s), ~26 kB, data not loaded>]],\n",
       " 27: [[<RawEDF | HS28EC.edf, 22 x 77056 (301.0 s), ~26 kB, data not loaded>,\n",
       "   <RawEDF | HS28EO.edf, 22 x 76544 (299.0 s), ~26 kB, data not loaded>,\n",
       "   <RawEDF | HS28TASK.edf, 22 x 155392 (607.0 s), ~26 kB, data not loaded>]],\n",
       " 28: [[<RawEDF | HS29EC.edf, 22 x 77568 (303.0 s), ~26 kB, data not loaded>,\n",
       "   <RawEDF | HS29EO.edf, 22 x 77056 (301.0 s), ~26 kB, data not loaded>,\n",
       "   <RawEDF | HS29TASK.edf, 22 x 154880 (605.0 s), ~26 kB, data not loaded>]],\n",
       " 29: [[<RawEDF | HS30EC.edf, 20 x 76800 (300.0 s), ~24 kB, data not loaded>,\n",
       "   <RawEDF | HS30EO.edf, 20 x 76800 (300.0 s), ~24 kB, data not loaded>,\n",
       "   <RawEDF | HS30TASK.edf, 22 x 162048 (633.0 s), ~26 kB, data not loaded>]]}"
      ]
     },
     "execution_count": 2,
     "metadata": {},
     "output_type": "execute_result"
    }
   ],
   "source": [
    "mne_healthy_data = get_raw_H_data()\n",
    "mne_healthy_data"
   ]
  },
  {
   "cell_type": "code",
   "execution_count": 3,
   "metadata": {},
   "outputs": [
    {
     "data": {
      "text/plain": [
       "[<RawEDF | HS1EC.edf, 22 x 76800 (300.0 s), ~26 kB, data not loaded>,\n",
       " <RawEDF | HS1EO.edf, 22 x 89856 (351.0 s), ~26 kB, data not loaded>,\n",
       " <RawEDF | HS1TASK.edf, 22 x 154880 (605.0 s), ~26 kB, data not loaded>]"
      ]
     },
     "execution_count": 3,
     "metadata": {},
     "output_type": "execute_result"
    }
   ],
   "source": [
    "mne_healthy_data[0][0] # mne's raw object(s) for the first patient for EC, EO, Task .edf files"
   ]
  },
  {
   "cell_type": "code",
   "execution_count": 4,
   "metadata": {},
   "outputs": [
    {
     "data": {
      "text/html": [
       "<table class=\"table table-hover table-striped table-sm table-responsive small\">\n",
       "    <tr>\n",
       "        <th>Measurement date</th>\n",
       "        \n",
       "        <td>August 16, 2011  17:48:54 GMT</td>\n",
       "        \n",
       "    </tr>\n",
       "    <tr>\n",
       "        <th>Experimenter</th>\n",
       "        \n",
       "        <td>Unknown</td>\n",
       "        \n",
       "    </tr>\n",
       "        <th>Participant</th>\n",
       "        \n",
       "        <td>Unknown</td>\n",
       "        \n",
       "    </tr>\n",
       "    <tr>\n",
       "        <th>Digitized points</th>\n",
       "        \n",
       "        <td>Not available</td>\n",
       "        \n",
       "    </tr>\n",
       "    <tr>\n",
       "        <th>Good channels</th>\n",
       "        <td>22 EEG</td>\n",
       "    </tr>\n",
       "    <tr>\n",
       "        <th>Bad channels</th>\n",
       "        <td>None</td>\n",
       "    </tr>\n",
       "    <tr>\n",
       "        <th>EOG channels</th>\n",
       "        <td>Not available</td>\n",
       "    </tr>\n",
       "    <tr>\n",
       "        <th>ECG channels</th>\n",
       "        <td>Not available</td>\n",
       "    \n",
       "    <tr>\n",
       "        <th>Sampling frequency</th>\n",
       "        <td>256.00 Hz</td>\n",
       "    </tr>\n",
       "    \n",
       "    \n",
       "    <tr>\n",
       "        <th>Highpass</th>\n",
       "        <td>0.50 Hz</td>\n",
       "    </tr>\n",
       "    \n",
       "    \n",
       "    <tr>\n",
       "        <th>Lowpass</th>\n",
       "        <td>80.00 Hz</td>\n",
       "    </tr>\n",
       "    \n",
       "    \n",
       "    \n",
       "    <tr>\n",
       "        <th>Filenames</th>\n",
       "        <td>HS1EC.edf</td>\n",
       "    </tr>\n",
       "    \n",
       "    <tr>\n",
       "        <th>Duration</th>\n",
       "        <td>00:04:60 (HH:MM:SS)</td>\n",
       "    </tr>\n",
       "</table>"
      ],
      "text/plain": [
       "<RawEDF | HS1EC.edf, 22 x 76800 (300.0 s), ~26 kB, data not loaded>"
      ]
     },
     "execution_count": 4,
     "metadata": {},
     "output_type": "execute_result"
    }
   ],
   "source": [
    "mne_healthy_data[0][0][0]   # mne's raw object for the first patient's EC file"
   ]
  },
  {
   "cell_type": "code",
   "execution_count": 5,
   "metadata": {},
   "outputs": [
    {
     "data": {
      "text/plain": [
       "['Fp1-LE',\n",
       " 'F3-LE',\n",
       " 'C3-LE',\n",
       " 'P3-LE',\n",
       " 'O1-LE',\n",
       " 'F7-LE',\n",
       " 'T3-LE',\n",
       " 'T5-LE',\n",
       " 'Fz-LE',\n",
       " 'Fp2-LE',\n",
       " 'F4-LE',\n",
       " 'C4-LE',\n",
       " 'P4-LE',\n",
       " 'O2-LE',\n",
       " 'F8-LE',\n",
       " 'T4-LE',\n",
       " 'T6-LE',\n",
       " 'Cz-LE',\n",
       " 'Pz-LE',\n",
       " 'A2-A1',\n",
       " '23A-23R',\n",
       " '24A-24R']"
      ]
     },
     "execution_count": 5,
     "metadata": {},
     "output_type": "execute_result"
    }
   ],
   "source": [
    "mne_healthy_data[0][0][0].ch_names # all 22 cannels in the first patient's EC file"
   ]
  },
  {
   "cell_type": "code",
   "execution_count": 6,
   "metadata": {},
   "outputs": [
    {
     "data": {
      "text/plain": [
       "(array([[-5.15039292e-06, -7.25055314e-06, -8.75066758e-06, ...,\n",
       "         -1.35010300e-06,  1.55011826e-06,  4.65035477e-06]]),\n",
       " array([0.00000000e+00, 3.90625000e-03, 7.81250000e-03, ...,\n",
       "        2.99988281e+02, 2.99992188e+02, 2.99996094e+02]))"
      ]
     },
     "execution_count": 6,
     "metadata": {},
     "output_type": "execute_result"
    }
   ],
   "source": [
    "mne_healthy_data[0][0][0][0] # the data from the first patient's EC file's first channel (['Fp1-LE')"
   ]
  },
  {
   "cell_type": "code",
   "execution_count": 7,
   "metadata": {},
   "outputs": [
    {
     "name": "stdout",
     "output_type": "stream",
     "text": [
      "Using qt as 2D backend.\n",
      "Using pyopengl with version 3.1.6\n"
     ]
    },
    {
     "data": {
      "text/plain": [
       "<mne_qt_browser._pg_figure.MNEQtBrowser at 0x28dafd2d0>"
      ]
     },
     "execution_count": 7,
     "metadata": {},
     "output_type": "execute_result"
    }
   ],
   "source": [
    "mne_healthy_data[0][0][0].plot() # plot the first patient's EC file"
   ]
  },
  {
   "cell_type": "code",
   "execution_count": 8,
   "metadata": {},
   "outputs": [
    {
     "name": "stdout",
     "output_type": "stream",
     "text": [
      "    Using multitaper spectrum estimation with 7 DPSS windows\n"
     ]
    },
    {
     "data": {
      "text/html": [
       "<table class=\"table table-hover table-striped table-sm table-responsive small\">\n",
       "    <tr>\n",
       "        <th>Data type</th>\n",
       "        <td>Power Spectrum</td>\n",
       "    </tr>\n",
       "    <tr>\n",
       "        <th rowspan=1>Units</th>\n",
       "        <td class=\"justify\">eeg: V²/Hz</td>\n",
       "    </tr>\n",
       "    <tr>\n",
       "        <th>Data source</th>\n",
       "        <td>Raw</td>\n",
       "    </tr><tr>\n",
       "        <th>Dims</th>\n",
       "        <td>channel, freq</td>\n",
       "    </tr>\n",
       "    <tr>\n",
       "        <th>Estimation method</th>\n",
       "        <td>multitaper</td>\n",
       "    </tr>\n",
       "    \n",
       "    <tr>\n",
       "        <th>Number of channels</th>\n",
       "        <td>22</td>\n",
       "    </tr>\n",
       "    <tr>\n",
       "        <th>Number of frequency bins</th>\n",
       "        <td>250</td>\n",
       "    </tr>\n",
       "    <tr>\n",
       "        <th>Frequency range</th>\n",
       "        <td>5.10 – 29.99 Hz</td>\n",
       "    </tr>\n",
       "</table>"
      ],
      "text/plain": [
       "<Power Spectrum (from Raw, multitaper method) | 22 channels × 250 freqs, 5.1-30.0 Hz>"
      ]
     },
     "execution_count": 8,
     "metadata": {},
     "output_type": "execute_result"
    },
    {
     "name": "stdout",
     "output_type": "stream",
     "text": [
      "Channels marked as bad:\n",
      "none\n"
     ]
    }
   ],
   "source": [
    "mne_healthy_data[0][0][0].compute_psd(method='multitaper', tmin=10, tmax=20, fmin=5, fmax=30,\n",
    "                picks='eeg')"
   ]
  }
 ],
 "metadata": {
  "kernelspec": {
   "display_name": "GNN_EEG",
   "language": "python",
   "name": "python3"
  },
  "language_info": {
   "codemirror_mode": {
    "name": "ipython",
    "version": 3
   },
   "file_extension": ".py",
   "mimetype": "text/x-python",
   "name": "python",
   "nbconvert_exporter": "python",
   "pygments_lexer": "ipython3",
   "version": "3.10.9"
  },
  "orig_nbformat": 4,
  "vscode": {
   "interpreter": {
    "hash": "c88a24521fa82e3e21505493f300b5f38814ea4427331787e5ab74eb60adc597"
   }
  }
 },
 "nbformat": 4,
 "nbformat_minor": 2
}
