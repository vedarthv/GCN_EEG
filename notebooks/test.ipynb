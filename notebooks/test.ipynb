{
 "cells": [
  {
   "attachments": {},
   "cell_type": "markdown",
   "metadata": {},
   "source": [
    "- [Data Set](https://figshare.com/articles/dataset/EEG_Data_New/4244171/2) \n",
    "- [Paper](https://ieeexplore.ieee.org/document/9995246)"
   ]
  },
  {
   "attachments": {},
   "cell_type": "markdown",
   "metadata": {},
   "source": [
    "'H' stands for Healthy Controls\n",
    "'MDD' stands for Major Depressive Disorder \n",
    "'EC' stands for eyes closed\n",
    "'EO' stands for eyes open\n",
    "'TASK' stands for P300 data"
   ]
  },
  {
   "attachments": {},
   "cell_type": "markdown",
   "metadata": {},
   "source": [
    "The 19-electrodes covering the scalp included the frontal (Fp1,\n",
    "Fp2, F3, F4, F7, F8, Fpz), temporal (T3, T4, T5, T6), parietal (P3, P4,\n",
    "P7, P8), occipital (O1, O2), and central (C3, C4) regions. Moreover,\n",
    "the 19-channels EEG cap was attached to an amplifier from Brain\n",
    "Master Systems with configurations such as 0.5 Hz to 70 Hz filter,\n",
    "with a 50 Hz notch filter, and a sample rate of 256 samples per second"
   ]
  },
  {
   "cell_type": "code",
   "execution_count": 2,
   "metadata": {},
   "outputs": [],
   "source": [
    "\n",
    "\n",
    "\n",
    "#directory = './../data/raw/'\n",
    "\n",
    "#raw_fnames = [os.path.join(directory, fname) for fname in os.listdir(directory)]\n",
    "#raws = [read_raw_edf(f, preload=True) for f in raw_fnames]\n",
    "#raw = concatenate_raws(raws)\n",
    "\n"
   ]
  },
  {
   "cell_type": "code",
   "execution_count": 2,
   "metadata": {},
   "outputs": [],
   "source": [
    "ch_names = ['Fp1', 'Fp2','O1', 'O2', 'T6', 'T4', 'P4', 'F4', 'C4', 'F8', 'C3', 'T3', 'F3', 'P3', 'F7', 'T5', 'Fz', 'Pz']\n",
    "\n",
    "for i in range(0, len(ch_names)):\n",
    "    ch_names[i] = f'EEG {ch_names[i]}-LE'\n",
    "    "
   ]
  },
  {
   "cell_type": "code",
   "execution_count": 52,
   "metadata": {},
   "outputs": [],
   "source": [
    "import os as os\n",
    "from mne.io import concatenate_raws, read_raw_edf\n",
    "import numpy as np\n",
    "\n",
    "i=2\n",
    "\n",
    "f1 = f'./../data/raw/HS{i}EC.edf'\n",
    "f2 = f'./../data/raw/HS{i}EO.edf'\n",
    "f3 = f'./../data/raw/HS{i}TASK.edf'\n",
    "\n",
    "raw_fnames = [f1,f2,f3]\n",
    "\n",
    "raws = [read_raw_edf(f, preload=False, infer_types=True, verbose=False) for f in raw_fnames]\n",
    "#raw = concatenate_raws(raws)"
   ]
  },
  {
   "cell_type": "code",
   "execution_count": 65,
   "metadata": {},
   "outputs": [
    {
     "data": {
      "text/plain": [
       "array(['Fp1-LE', 'F3-LE', 'C3-LE', 'P3-LE', 'O1-LE', 'F7-LE', 'T3-LE',\n",
       "       'T5-LE', 'Fz-LE', 'Fp2-LE', 'F4-LE', 'C4-LE', 'P4-LE', 'O2-LE',\n",
       "       'F8-LE', 'T4-LE', 'T6-LE', 'Cz-LE', 'Pz-LE', 'A2-A1'], dtype='<U6')"
      ]
     },
     "execution_count": 65,
     "metadata": {},
     "output_type": "execute_result"
    }
   ],
   "source": [
    "np.array(raws[:][0].info['ch_names'])"
   ]
  },
  {
   "cell_type": "code",
   "execution_count": 66,
   "metadata": {},
   "outputs": [],
   "source": [
    "#aws[0].pick_channels(ch_names)"
   ]
  },
  {
   "cell_type": "code",
   "execution_count": 67,
   "metadata": {},
   "outputs": [
    {
     "ename": "NameError",
     "evalue": "name 'raw' is not defined",
     "output_type": "error",
     "traceback": [
      "\u001b[0;31m---------------------------------------------------------------------------\u001b[0m",
      "\u001b[0;31mNameError\u001b[0m                                 Traceback (most recent call last)",
      "Cell \u001b[0;32mIn[67], line 1\u001b[0m\n\u001b[0;32m----> 1\u001b[0m raw\u001b[39m.\u001b[39mplot()\n",
      "\u001b[0;31mNameError\u001b[0m: name 'raw' is not defined"
     ]
    },
    {
     "name": "stdout",
     "output_type": "stream",
     "text": [
      "Channels marked as bad:\n",
      "['Fz-LE', 'C4-LE', 'Fp2-LE', 'F4-LE']\n"
     ]
    },
    {
     "ename": "",
     "evalue": "",
     "output_type": "error",
     "traceback": [
      "\u001b[1;31mThe Kernel crashed while executing code in the the current cell or a previous cell. Please review the code in the cell(s) to identify a possible cause of the failure. Click <a href='https://aka.ms/vscodeJupyterKernelCrash'>here</a> for more info. View Jupyter <a href='command:jupyter.viewOutput'>log</a> for further details."
     ]
    }
   ],
   "source": [
    "raw.plot()"
   ]
  },
  {
   "cell_type": "code",
   "execution_count": null,
   "metadata": {},
   "outputs": [
    {
     "name": "stdout",
     "output_type": "stream",
     "text": [
      "Effective window size : 1.000 (s)\n"
     ]
    },
    {
     "data": {
      "text/html": [
       "<table class=\"table table-hover table-striped table-sm table-responsive small\">\n",
       "    <tr>\n",
       "        <th>Data type</th>\n",
       "        <td>Power Spectrum</td>\n",
       "    </tr>\n",
       "    <tr>\n",
       "        <th rowspan=1>Units</th>\n",
       "        <td class=\"justify\">eeg: V²/Hz</td>\n",
       "    </tr>\n",
       "    <tr>\n",
       "        <th>Data source</th>\n",
       "        <td>Raw</td>\n",
       "    </tr><tr>\n",
       "        <th>Dims</th>\n",
       "        <td>channel, freq</td>\n",
       "    </tr>\n",
       "    <tr>\n",
       "        <th>Estimation method</th>\n",
       "        <td>welch</td>\n",
       "    </tr>\n",
       "    \n",
       "    <tr>\n",
       "        <th>Number of channels</th>\n",
       "        <td>22</td>\n",
       "    </tr>\n",
       "    <tr>\n",
       "        <th>Number of frequency bins</th>\n",
       "        <td>129</td>\n",
       "    </tr>\n",
       "    <tr>\n",
       "        <th>Frequency range</th>\n",
       "        <td>0.00 – 128.00 Hz</td>\n",
       "    </tr>\n",
       "</table>"
      ],
      "text/plain": [
       "<Power Spectrum (from Raw, welch method) | 22 channels × 129 freqs, 0.0-128.0 Hz>"
      ]
     },
     "execution_count": 6,
     "metadata": {},
     "output_type": "execute_result"
    }
   ],
   "source": [
    "raw.compute_psd()"
   ]
  },
  {
   "cell_type": "code",
   "execution_count": null,
   "metadata": {},
   "outputs": [
    {
     "name": "stdout",
     "output_type": "stream",
     "text": [
      "    Using multitaper spectrum estimation with 7 DPSS windows\n"
     ]
    },
    {
     "data": {
      "text/html": [
       "<table class=\"table table-hover table-striped table-sm table-responsive small\">\n",
       "    <tr>\n",
       "        <th>Data type</th>\n",
       "        <td>Power Spectrum</td>\n",
       "    </tr>\n",
       "    <tr>\n",
       "        <th rowspan=1>Units</th>\n",
       "        <td class=\"justify\">eeg: V²/Hz</td>\n",
       "    </tr>\n",
       "    <tr>\n",
       "        <th>Data source</th>\n",
       "        <td>Raw</td>\n",
       "    </tr><tr>\n",
       "        <th>Dims</th>\n",
       "        <td>channel, freq</td>\n",
       "    </tr>\n",
       "    <tr>\n",
       "        <th>Estimation method</th>\n",
       "        <td>multitaper</td>\n",
       "    </tr>\n",
       "    \n",
       "    <tr>\n",
       "        <th>Number of channels</th>\n",
       "        <td>22</td>\n",
       "    </tr>\n",
       "    <tr>\n",
       "        <th>Number of frequency bins</th>\n",
       "        <td>250</td>\n",
       "    </tr>\n",
       "    <tr>\n",
       "        <th>Frequency range</th>\n",
       "        <td>5.10 – 29.99 Hz</td>\n",
       "    </tr>\n",
       "</table>"
      ],
      "text/plain": [
       "<Power Spectrum (from Raw, multitaper method) | 22 channels × 250 freqs, 5.1-30.0 Hz>"
      ]
     },
     "execution_count": 7,
     "metadata": {},
     "output_type": "execute_result"
    },
    {
     "name": "stdout",
     "output_type": "stream",
     "text": [
      "Channels marked as bad:\n",
      "none\n"
     ]
    },
    {
     "ename": "",
     "evalue": "",
     "output_type": "error",
     "traceback": [
      "\u001b[1;31mThe Kernel crashed while executing code in the the current cell or a previous cell. Please review the code in the cell(s) to identify a possible cause of the failure. Click <a href='https://aka.ms/vscodeJupyterKernelCrash'>here</a> for more info. View Jupyter <a href='command:jupyter.viewOutput'>log</a> for further details."
     ]
    }
   ],
   "source": [
    "raw.compute_psd(method='multitaper', tmin=10, tmax=20, fmin=5, fmax=30,\n",
    "                picks='eeg')"
   ]
  }
 ],
 "metadata": {
  "kernelspec": {
   "display_name": "GNN_EEG",
   "language": "python",
   "name": "python3"
  },
  "language_info": {
   "codemirror_mode": {
    "name": "ipython",
    "version": 3
   },
   "file_extension": ".py",
   "mimetype": "text/x-python",
   "name": "python",
   "nbconvert_exporter": "python",
   "pygments_lexer": "ipython3",
   "version": "3.10.9"
  },
  "orig_nbformat": 4,
  "vscode": {
   "interpreter": {
    "hash": "c88a24521fa82e3e21505493f300b5f38814ea4427331787e5ab74eb60adc597"
   }
  }
 },
 "nbformat": 4,
 "nbformat_minor": 2
}
